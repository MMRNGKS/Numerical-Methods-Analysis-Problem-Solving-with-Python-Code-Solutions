{
  "nbformat": 4,
  "nbformat_minor": 0,
  "metadata": {
    "colab": {
      "name": "Mamarungkas_CPE-2B_Num-PIT.ipynb",
      "provenance": [],
      "collapsed_sections": [],
      "authorship_tag": "ABX9TyN57j13uPX1bpHZPqokvUHv",
      "include_colab_link": true
    },
    "kernelspec": {
      "name": "python3",
      "display_name": "Python 3"
    },
    "language_info": {
      "name": "python"
    }
  },
  "cells": [
    {
      "cell_type": "markdown",
      "metadata": {
        "id": "view-in-github",
        "colab_type": "text"
      },
      "source": [
        "<a href=\"https://colab.research.google.com/github/MMRNGKS/Numerical-Methods-Analysis-Problem-Solving-with-Python-Code-Solutions/blob/main/Polynomial_Interpolation_And_Curve_Fitting_Problem_With_Solution.ipynb\" target=\"_parent\"><img src=\"https://colab.research.google.com/assets/colab-badge.svg\" alt=\"Open In Colab\"/></a>"
      ]
    },
    {
      "cell_type": "code",
      "source": [
        "import numpy as np\n",
        "import scipy\n",
        "import matplotlib.pyplot as plt\n",
        "from scipy.interpolate import CubicSpline\n",
        "import math\n",
        "from math import e"
      ],
      "metadata": {
        "id": "TB8GmnG1BNrY"
      },
      "execution_count": null,
      "outputs": []
    },
    {
      "cell_type": "markdown",
      "source": [
        "#1. Kinematic viscosity µk of water varies with temperature T as shown in the table. Determine the cubic that best fits the data, and use it to compute µk at T = 10◦, 30◦, 60◦, and 90◦C.\n",
        "\n",
        "#T (◦C): 0, 21.1, 37.8, 54.4, 71.1, 87.8, 100\n",
        "#µk (10^−3 m^2/s): 1.79, 1.13, 0.696, 0.519, 0.338, 0.321, 0.296"
      ],
      "metadata": {
        "id": "zIF-uN6DxtVq"
      }
    },
    {
      "cell_type": "code",
      "execution_count": null,
      "metadata": {
        "colab": {
          "base_uri": "https://localhost:8080/",
          "height": 442
        },
        "id": "6IDDLO3tWvrJ",
        "outputId": "e07cf134-d6a6-4bf0-b720-e80a98ab1da7"
      },
      "outputs": [
        {
          "output_type": "stream",
          "name": "stdout",
          "text": [
            "poly_coeffs:  [-8.45886166e-07  3.28569164e-04 -3.93212797e-02  1.79570895e+00]\n",
            "T = 10;  µk(T) =  1.4749813318705263\n",
            "T = 30;  µk(T) =  0.8701478844582461\n",
            "T = 60;  µk(T) =  0.45408107031955064\n",
            "T = 90;  µk(T) =  0.31945286124506\n"
          ]
        },
        {
          "output_type": "display_data",
          "data": {
            "text/plain": [
              "<Figure size 504x360 with 1 Axes>"
            ],
            "image/png": "[encoded data removed]"
          },
          "metadata": {
            "needs_background": "light"
          }
        }
      ],
      "source": [
        "# Fit a polynomial of degree 3\n",
        "x = np.array([0, 21.1, 37.8, 54.4, 71.1, 87.8, 100])\n",
        "y = np.array([1.79, 1.13, 0.696, 0.519, 0.338, 0.321, 0.296])\n",
        "degree = 3\n",
        "\n",
        "# Cubic\n",
        "poly_coeffs=np.polyfit(x, y, degree)\n",
        "p3 = np.poly1d(poly_coeffs)\n",
        "print('poly_coeffs: ',poly_coeffs)\n",
        "f = CubicSpline(x, y, bc_type='natural')\n",
        "\n",
        "#print(f([10, 30, 60, 90]))\n",
        "print('T = 10;  µk(T) = ', f(10))\n",
        "print('T = 30;  µk(T) = ', f(30))\n",
        "print('T = 60;  µk(T) = ', f(60))\n",
        "print('T = 90;  µk(T) = ', f(90))\n",
        "\n",
        "def plot_slope_intercept(x, y, ax):\n",
        "\n",
        "    ax.plot(x, y, 'ro', label='Slope-Intercept')\n",
        "    ax.set_xlabel('x', fontsize=12)\n",
        "    ax.set_ylabel('y', fontsize=12)\n",
        "    ax.grid(True)\n",
        "\n",
        "def plot_raw_data(x, y, ax):\n",
        "\n",
        "    ax.plot(x, y, 'kD', label='Raw Data')\n",
        "\n",
        "# Set up figure\n",
        "fig = plt.figure(figsize=(7, 5))\n",
        "ax1 = fig.add_subplot(111)\n",
        "ax1.margins(0.1)\n",
        "\n",
        "ax1.plot(x, p3(x), 'g', label='Cubic')\n",
        "\n",
        "# Overlay slope-intercept\n",
        "plot_raw_data(x, y, ax1)\n",
        "plot_slope_intercept(x, p3(x), ax1)\n",
        "\n",
        "\n",
        "# Add a legend\n",
        "ax1.legend(loc='best', fontsize=12)\n",
        "\n",
        "# Add a figure title\n",
        "ax1.set_title('Least-Squares Regression', fontsize=16)\n",
        "\n",
        "plt.show()"
      ]
    },
    {
      "cell_type": "markdown",
      "source": [
        "#2. The table displays thermal efficiencies of some early steam engines. Determine the polynomial that provides the best fit to the data and use it to predict the thermal efficiency in the year 2000.\n",
        "\n",
        "Year | Efficiency (%) | Type\n",
        "\n",
        "1718 |      0.5       | Newcomen\n",
        "\n",
        "1767 |      0.8       | Smeaton\n",
        "\n",
        "1774 |      1.4       | Smeaton\n",
        "\n",
        "1775 |      2.7       | Watt\n",
        "\n",
        "1792 |      4.5       | Watt\n",
        "\n",
        "1816 |      7.5       | Woolf compound\n",
        "\n",
        "1828 |      12.0      | Improved Cornish\n",
        "\n",
        "1834 |      17.0      | Improved Cornish\n",
        "\n",
        "1878 |      17.2      | Corliss compound\n",
        "\n",
        "1906 |      23.0      | Triple expansion"
      ],
      "metadata": {
        "id": "hVm7Lhq-0QvW"
      }
    },
    {
      "cell_type": "code",
      "source": [
        "xData = np.array([1718, 1767, 1774, 1775, 1792, 1816, 1828, 1834, 1878, 1906])\n",
        "yData = np.array([0.5, 0.8, 1.4, 2.7, 4.5, 7.5, 12.0, 17.0, 17.2, 23.0])\n",
        "i = 0\n",
        "degree = 1\n",
        "m = 2\n",
        "while (i < 4):\n",
        "  co = np.polyfit(xData, yData, degree)\n",
        "  p = np.poly1d(co)\n",
        "  s = yData-p(xData)\n",
        "  sq = np.sum(pow(s,2))\n",
        "  print('degree of polynomial = ', degree, '; σ = ', math.sqrt(sq/(10-m)))\n",
        "  degree+=1\n",
        "  m+=1\n",
        "  i+=1\n",
        "\n",
        "coefficients = np.polyfit(xData, yData, 4);\n",
        "x = 2000;\n",
        "estimatedY= np.polyval(coefficients, x);\n",
        "\n",
        "print('Year 2000 predicted thermal efficiency = ',estimatedY,'%')\n"
      ],
      "metadata": {
        "colab": {
          "base_uri": "https://localhost:8080/"
        },
        "id": "d7LWmjiL0oK3",
        "outputId": "b0f77eed-c502-4279-84a7-87fd77814381"
      },
      "execution_count": null,
      "outputs": [
        {
          "output_type": "stream",
          "name": "stdout",
          "text": [
            "degree of polynomial =  1 ; σ =  2.8552022884971504\n",
            "degree of polynomial =  2 ; σ =  2.76840658050928\n",
            "degree of polynomial =  3 ; σ =  2.265845111263898\n",
            "degree of polynomial =  4 ; σ =  2.2340260941174805\n",
            "Year 2000 predicted thermal efficiency =  111.34991072793491 %\n"
          ]
        }
      ]
    },
    {
      "cell_type": "markdown",
      "source": [
        "# 3. The intensity of radiation of a radioactive substance was measured at half-year intervals. The results were:\n",
        "\n",
        "t(years): 0, 0.5, 1, 1.5, 2, 2.5, 3, 3.5, 4, 4.5, 5, 5.5\n",
        "\n",
        "γ: 1.000, 0.994, 0.990, 0.985, 0.979, 0.977, 0.972, 0.969, 0.967, 0.960, 0.956, 0.952"
      ],
      "metadata": {
        "id": "Q4eos0zb804b"
      }
    },
    {
      "cell_type": "code",
      "source": [
        "xD = np.array([0, 0.5, 1, 1.5, 2, 2.5, 3, 3.5, 4, 4.5, 5, 5.5])\n",
        "yD = np.array([1.000, 0.994, 0.990, 0.985, 0.979, 0.977, 0.972, 0.969, 0.967, 0.960, 0.956, 0.952])\n",
        "Ly = np.log(yD)\n",
        "\n",
        "polyn_coeffs=np.polyfit(xD, Ly, 1)\n",
        "a = pow(e, polyn_coeffs[1])\n",
        "b = -1*polyn_coeffs[0]\n",
        "T = np.log(2)/b\n",
        "\n",
        "print('ˆb and ˆa =', polyn_coeffs)\n",
        "print('Coefficients = [', a, b, ']')\n",
        "print('Model estimate: γ(t) = ', a, 'e^', polyn_coeffs[0], 't')\n",
        "print('T_(1/2) = ', T)"
      ],
      "metadata": {
        "colab": {
          "base_uri": "https://localhost:8080/"
        },
        "id": "IRqu3vy3D-ps",
        "outputId": "9bf99036-eac3-4085-8153-323d4e9c3fa0"
      },
      "execution_count": null,
      "outputs": [
        {
          "output_type": "stream",
          "name": "stdout",
          "text": [
            "ˆb and ˆa = [-0.00863955 -0.00158547]\n",
            "Coefficients = [ 0.9984157812833949 0.008639549701453633 ]\n",
            "Model estimate: γ(t) =  0.9984157812833949 e^ -0.008639549701453633 t\n",
            "T_(1/2) =  80.22954951498467\n"
          ]
        }
      ]
    },
    {
      "cell_type": "code",
      "source": [
        "import matplotlib.pyplot as plt\n",
        "import numpy as np\n",
        "import sympy as sy\n",
        "\n",
        "xD = np.array([-320, -240, -160, -80, 0, 80])\n",
        "yD = np.array([2.76, 3.83, 4.72, 5.43, 6.00, 6.47])\n",
        "degree = 2\n",
        "\n",
        "poly_coeffs=np.polyfit(xD, yD, degree)\n",
        "p2 = np.poly1d(poly_coeffs)\n",
        "\n",
        "print('Polynomial regression mode:')\n",
        "print(p2)\n",
        "x = sy.Symbol(\"x\")\n",
        "print('The reduction in the length of the cylinder in inches is', -0.000012*sy.integrate(p2(x), (x, 80, -315)))"
      ],
      "metadata": {
        "colab": {
          "base_uri": "https://localhost:8080/"
        },
        "id": "7CUQ3TKWMpY_",
        "outputId": "e7ebd399-bb23-4ccc-f467-6a88178c942a"
      },
      "execution_count": null,
      "outputs": [
        {
          "output_type": "stream",
          "name": "stdout",
          "text": [
            "Polynomial regression mode:\n",
            "            2\n",
            "-1.194e-05 x + 0.006338 x + 6.024\n",
            "The reduction in the length of the cylinder in inches is 0.0235052517745535\n"
          ]
        }
      ]
    }
  ]
}