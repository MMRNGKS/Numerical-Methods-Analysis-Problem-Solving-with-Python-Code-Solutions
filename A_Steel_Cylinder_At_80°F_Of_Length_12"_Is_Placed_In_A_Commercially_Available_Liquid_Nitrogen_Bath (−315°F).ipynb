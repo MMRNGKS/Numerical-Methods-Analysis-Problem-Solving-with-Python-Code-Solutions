{
  "nbformat": 4,
  "nbformat_minor": 0,
  "metadata": {
    "colab": {
      "name": "Solution #3.ipynb",
      "provenance": [],
      "authorship_tag": "ABX9TyPgm0wBxIzrOA76MI6RtLhp",
      "include_colab_link": true
    },
    "kernelspec": {
      "name": "python3",
      "display_name": "Python 3"
    },
    "language_info": {
      "name": "python"
    }
  },
  "cells": [
    {
      "cell_type": "markdown",
      "metadata": {
        "id": "view-in-github",
        "colab_type": "text"
      },
      "source": [
        "<a href=\"https://colab.research.google.com/github/MMRNGKS/Numerical-Methods-Analysis-Problem-Solving-with-Python-Code-Solutions/blob/main/A_Steel_Cylinder_At_80%C2%B0F_Of_Length_12%22_Is_Placed_In_A_Commercially_Available_Liquid_Nitrogen_Bath%20(%E2%88%92315%C2%B0F).ipynb\" target=\"_parent\"><img src=\"https://colab.research.google.com/assets/colab-badge.svg\" alt=\"Open In Colab\"/></a>"
      ]
    },
    {
      "cell_type": "markdown",
      "source": [
        "# A steel cylinder at 80°F of length 12\" is placed in a commercially available liquid nitrogen bath (−315°F). If the thermal expansion coefficient of steel behaves as a second order polynomial function of temperature and the polynomial is found by regressing the data below, the reduction in the length of the cylinder in inches is ?"
      ],
      "metadata": {
        "id": "z58Qg58mm2UO"
      }
    },
    {
      "cell_type": "code",
      "execution_count": 2,
      "metadata": {
        "colab": {
          "base_uri": "https://localhost:8080/"
        },
        "id": "QFhoVgB8-AUC",
        "outputId": "f874e29f-c3b3-4250-d953-b1bf3b46aa9c"
      },
      "outputs": [
        {
          "output_type": "stream",
          "name": "stdout",
          "text": [
            "Polynomial regression mode:\n",
            "            2\n",
            "-1.194e-05 x + 0.006338 x + 6.024\n",
            "The reduction in the length of the cylinder in inches is 0.0235052517745535\n"
          ]
        }
      ],
      "source": [
        "import matplotlib.pyplot as plt\n",
        "import numpy as np\n",
        "import sympy as sy\n",
        "\n",
        "#Data: \n",
        "#Temperature(°F): -320, -240, -160, -80, 0, 80\n",
        "#Thermal Expansion Coefficient: 2.76, 3.83, 4.72, 5.43, 6.00, 6.47\n",
        "\n",
        "xD = np.array([-320, -240, -160, -80, 0, 80])\n",
        "yD = np.array([2.76, 3.83, 4.72, 5.43, 6.00, 6.47])\n",
        "degree = 2\n",
        "\n",
        "poly_coeffs=np.polyfit(xD, yD, degree)\n",
        "p2 = np.poly1d(poly_coeffs)\n",
        "\n",
        "print('Polynomial regression mode:')\n",
        "print(p2)\n",
        "x = sy.Symbol(\"x\")\n",
        "print('The reduction in the length of the cylinder in inches is', -0.000012*sy.integrate(p2(x), (x, 80, -315)))"
      ]
    }
  ]
}